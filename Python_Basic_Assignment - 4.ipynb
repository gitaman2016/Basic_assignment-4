{
 "cells": [
  {
   "cell_type": "raw",
   "id": "36aa80b6",
   "metadata": {},
   "source": [
    "1. What exactly is []?\n",
    "ans:Braces"
   ]
  },
  {
   "cell_type": "raw",
   "id": "497494a5",
   "metadata": {},
   "source": [
    "2. In a list of values stored in a variable called spam, how would you assign      the value 'hello' as the third value? (Assume [2, 4, 6, 8, 10] are in spam.)\n",
    "ans:"
   ]
  },
  {
   "cell_type": "code",
   "execution_count": 5,
   "id": "99ef3e52",
   "metadata": {},
   "outputs": [
    {
     "name": "stdout",
     "output_type": "stream",
     "text": [
      "[2, 4, 6, 'Hello', 8, 10]\n"
     ]
    }
   ],
   "source": [
    "spam = [2,4,6,8,10]\n",
    "spam.insert(3,\"Hello\")\n",
    "print(spam)"
   ]
  },
  {
   "cell_type": "raw",
   "id": "de1f8814",
   "metadata": {},
   "source": [
    "Let's pretend the spam includes the list ['a', 'b', 'c', 'd'] for the next three queries.\n",
    "3. What is the value of spam[int(int('3' * 2) / 11)]?\n",
    "4. What is the value of spam[-1]?\n",
    "5. What is the value of spam[:2]?\n"
   ]
  },
  {
   "cell_type": "code",
   "execution_count": 6,
   "id": "6fe882d1",
   "metadata": {},
   "outputs": [
    {
     "data": {
      "text/plain": [
       "'d'"
      ]
     },
     "execution_count": 6,
     "metadata": {},
     "output_type": "execute_result"
    }
   ],
   "source": [
    "spam = ['a', 'b', 'c', 'd']\n",
    "spam[int(int('3'*2)/11)]"
   ]
  },
  {
   "cell_type": "code",
   "execution_count": 7,
   "id": "ff3bb033",
   "metadata": {},
   "outputs": [
    {
     "data": {
      "text/plain": [
       "3"
      ]
     },
     "execution_count": 7,
     "metadata": {},
     "output_type": "execute_result"
    }
   ],
   "source": [
    "int(int('3'*2)/11)"
   ]
  },
  {
   "cell_type": "code",
   "execution_count": 9,
   "id": "dcb3dca1",
   "metadata": {},
   "outputs": [
    {
     "data": {
      "text/plain": [
       "'d'"
      ]
     },
     "execution_count": 9,
     "metadata": {},
     "output_type": "execute_result"
    }
   ],
   "source": [
    "spam[-1]"
   ]
  },
  {
   "cell_type": "code",
   "execution_count": 10,
   "id": "c84835ac",
   "metadata": {},
   "outputs": [
    {
     "data": {
      "text/plain": [
       "['a', 'b']"
      ]
     },
     "execution_count": 10,
     "metadata": {},
     "output_type": "execute_result"
    }
   ],
   "source": [
    "spam[:2]"
   ]
  },
  {
   "cell_type": "raw",
   "id": "8668a45a",
   "metadata": {},
   "source": [
    "Let's pretend bacon has the list [3.14, 'cat,' 11, 'cat,' True] for the next three questions.\n",
    "6. What is the value of bacon.index('cat')?\n",
    "7. How does bacon.append(99) change the look of the list value in bacon?\n",
    "8. How does bacon.remove('cat') change the look of the list in bacon?\n",
    "\n"
   ]
  },
  {
   "cell_type": "code",
   "execution_count": 11,
   "id": "6ad620c8",
   "metadata": {},
   "outputs": [
    {
     "data": {
      "text/plain": [
       "1"
      ]
     },
     "execution_count": 11,
     "metadata": {},
     "output_type": "execute_result"
    }
   ],
   "source": [
    "bacon = [3.14, 'cat', 11, 'cat', True]\n",
    "bacon.index('cat')\n"
   ]
  },
  {
   "cell_type": "code",
   "execution_count": 12,
   "id": "c4f43354",
   "metadata": {},
   "outputs": [],
   "source": [
    "bacon.append(99)"
   ]
  },
  {
   "cell_type": "code",
   "execution_count": 13,
   "id": "441c30e6",
   "metadata": {},
   "outputs": [
    {
     "data": {
      "text/plain": [
       "[3.14, 'cat', 11, 'cat', True, 99]"
      ]
     },
     "execution_count": 13,
     "metadata": {},
     "output_type": "execute_result"
    }
   ],
   "source": [
    "bacon"
   ]
  },
  {
   "cell_type": "code",
   "execution_count": 14,
   "id": "547ca1e5",
   "metadata": {},
   "outputs": [],
   "source": [
    "bacon.remove('cat')"
   ]
  },
  {
   "cell_type": "code",
   "execution_count": 15,
   "id": "57ad6636",
   "metadata": {},
   "outputs": [
    {
     "data": {
      "text/plain": [
       "[3.14, 11, 'cat', True, 99]"
      ]
     },
     "execution_count": 15,
     "metadata": {},
     "output_type": "execute_result"
    }
   ],
   "source": [
    "bacon"
   ]
  },
  {
   "cell_type": "raw",
   "id": "7bdfc6e0",
   "metadata": {},
   "source": [
    "9. What are the list concatenation and list replication operators?\n",
    "ans:In python programming operator for list concadination is '+' and for list       replication '*' "
   ]
  },
  {
   "cell_type": "raw",
   "id": "5caaca19",
   "metadata": {},
   "source": [
    "10. What is difference between the list methods append() and insert()?\n",
    "ans:An append methods is used for add element at the end but in insert methods     we can add element in list at specific position you want."
   ]
  },
  {
   "cell_type": "code",
   "execution_count": 3,
   "id": "2e5dab35",
   "metadata": {},
   "outputs": [],
   "source": [
    "s = [1,2,3,4,5,43,2]\n",
    "s.append(3)"
   ]
  },
  {
   "cell_type": "code",
   "execution_count": 4,
   "id": "e55c4323",
   "metadata": {},
   "outputs": [
    {
     "data": {
      "text/plain": [
       "[1, 2, 3, 4, 5, 43, 2, 3]"
      ]
     },
     "execution_count": 4,
     "metadata": {},
     "output_type": "execute_result"
    }
   ],
   "source": [
    "s"
   ]
  },
  {
   "cell_type": "code",
   "execution_count": 6,
   "id": "95bbfa29",
   "metadata": {},
   "outputs": [],
   "source": [
    "p = [1,2,3,4,5,6,67,78,8]\n",
    "p.insert(5,23)"
   ]
  },
  {
   "cell_type": "code",
   "execution_count": 7,
   "id": "a7fa2288",
   "metadata": {},
   "outputs": [
    {
     "data": {
      "text/plain": [
       "[1, 2, 3, 4, 5, 23, 6, 67, 78, 8]"
      ]
     },
     "execution_count": 7,
     "metadata": {},
     "output_type": "execute_result"
    }
   ],
   "source": [
    "p"
   ]
  },
  {
   "cell_type": "raw",
   "id": "07ed6430",
   "metadata": {},
   "source": [
    "11. What are the two methods for removing items from a list?\n",
    "ans:The two methord for removing items from a list are:\n",
    "    1. list.remove(element you want to remove)\n",
    "    2. list.pop(index you want to remove) "
   ]
  },
  {
   "cell_type": "code",
   "execution_count": 8,
   "id": "25b76367",
   "metadata": {},
   "outputs": [],
   "source": [
    "a = [1,2,3,4]\n",
    "a.remove(2)"
   ]
  },
  {
   "cell_type": "code",
   "execution_count": 9,
   "id": "c29801a2",
   "metadata": {},
   "outputs": [
    {
     "data": {
      "text/plain": [
       "[1, 3, 4]"
      ]
     },
     "execution_count": 9,
     "metadata": {},
     "output_type": "execute_result"
    }
   ],
   "source": [
    "a"
   ]
  },
  {
   "cell_type": "code",
   "execution_count": 11,
   "id": "20b94835",
   "metadata": {},
   "outputs": [
    {
     "data": {
      "text/plain": [
       "1"
      ]
     },
     "execution_count": 11,
     "metadata": {},
     "output_type": "execute_result"
    }
   ],
   "source": [
    "a = [1,2,3,4]\n",
    "a.pop(0)"
   ]
  },
  {
   "cell_type": "code",
   "execution_count": 12,
   "id": "5ca48544",
   "metadata": {},
   "outputs": [
    {
     "data": {
      "text/plain": [
       "[2, 3, 4]"
      ]
     },
     "execution_count": 12,
     "metadata": {},
     "output_type": "execute_result"
    }
   ],
   "source": [
    "a"
   ]
  },
  {
   "cell_type": "raw",
   "id": "378fffde",
   "metadata": {},
   "source": [
    "12. Describe how list values and string values are identical\n",
    "ans:List and string both are sequences,the difference is list are mutable but       string are immutable."
   ]
  },
  {
   "cell_type": "raw",
   "id": "d9f976e1",
   "metadata": {},
   "source": [
    "13. What's the difference between tuples and lists?\n",
    "ans:The difference between tuples and lists are following:\n",
    "     1.The sign use in list is square bracket but in truple sign used is              parenthesis\n",
    "     2.list are mutable but truple are immutable.\n",
    "     3.list is better for performing operation but truple data typr is                approprite for accessing the element.\n",
    "     4.list consume more memory as compare to truple.\n",
    "     5.list has several build-in function but truple has not build-in finction\n",
    "     6.unexpected change and error are more likly occour but in truple it is          hard to take place"
   ]
  },
  {
   "cell_type": "code",
   "execution_count": 37,
   "id": "61b2baa1",
   "metadata": {},
   "outputs": [
    {
     "name": "stdout",
     "output_type": "stream",
     "text": [
      "[1, 2, 3, 5]\n"
     ]
    }
   ],
   "source": [
    "l = [1,2,3,4,5]\n",
    "l.remove(4)\n",
    "print(l)"
   ]
  },
  {
   "cell_type": "code",
   "execution_count": 38,
   "id": "f383a54b",
   "metadata": {},
   "outputs": [
    {
     "ename": "AttributeError",
     "evalue": "'tuple' object has no attribute 'remove'",
     "output_type": "error",
     "traceback": [
      "\u001b[1;31m---------------------------------------------------------------------------\u001b[0m",
      "\u001b[1;31mAttributeError\u001b[0m                            Traceback (most recent call last)",
      "\u001b[1;32m<ipython-input-38-453d45603b32>\u001b[0m in \u001b[0;36m<module>\u001b[1;34m\u001b[0m\n\u001b[0;32m      1\u001b[0m \u001b[0ml\u001b[0m \u001b[1;33m=\u001b[0m \u001b[1;33m(\u001b[0m\u001b[1;36m1\u001b[0m\u001b[1;33m,\u001b[0m\u001b[1;36m2\u001b[0m\u001b[1;33m,\u001b[0m\u001b[1;36m3\u001b[0m\u001b[1;33m,\u001b[0m\u001b[1;36m4\u001b[0m\u001b[1;33m,\u001b[0m\u001b[1;36m5\u001b[0m\u001b[1;33m)\u001b[0m\u001b[1;33m\u001b[0m\u001b[1;33m\u001b[0m\u001b[0m\n\u001b[1;32m----> 2\u001b[1;33m \u001b[0ml\u001b[0m\u001b[1;33m.\u001b[0m\u001b[0mremove\u001b[0m\u001b[1;33m(\u001b[0m\u001b[1;36m4\u001b[0m\u001b[1;33m)\u001b[0m\u001b[1;33m\u001b[0m\u001b[1;33m\u001b[0m\u001b[0m\n\u001b[0m\u001b[0;32m      3\u001b[0m \u001b[0mprint\u001b[0m\u001b[1;33m(\u001b[0m\u001b[0ml\u001b[0m\u001b[1;33m)\u001b[0m\u001b[1;33m\u001b[0m\u001b[1;33m\u001b[0m\u001b[0m\n",
      "\u001b[1;31mAttributeError\u001b[0m: 'tuple' object has no attribute 'remove'"
     ]
    }
   ],
   "source": [
    "l = (1,2,3,4,5)\n",
    "l.remove(4)\n",
    "print(l)"
   ]
  },
  {
   "cell_type": "raw",
   "id": "37a467e5",
   "metadata": {},
   "source": [
    "14. How do you type a tuple value that only contains the integer 42?\n",
    "ans:"
   ]
  },
  {
   "cell_type": "code",
   "execution_count": 5,
   "id": "6af30918",
   "metadata": {},
   "outputs": [
    {
     "data": {
      "text/plain": [
       "tuple"
      ]
     },
     "execution_count": 5,
     "metadata": {},
     "output_type": "execute_result"
    }
   ],
   "source": [
    "p = (42,)\n",
    "type(p)"
   ]
  },
  {
   "cell_type": "raw",
   "id": "96700720",
   "metadata": {},
   "source": [
    "15. How do you get a list value's tuple form? How do you get a tuple value's       list form?\n",
    "ans:List function along with zip() function is used to convert list to             tuple.Tuples is converted to list by using list() function"
   ]
  },
  {
   "cell_type": "code",
   "execution_count": 16,
   "id": "3b207798",
   "metadata": {},
   "outputs": [],
   "source": [
    "l = [1,2,3,4,5,'aman']\n",
    "tuple_l = list(zip(l))\n",
    "\n"
   ]
  },
  {
   "cell_type": "code",
   "execution_count": 17,
   "id": "0fd4543d",
   "metadata": {},
   "outputs": [
    {
     "data": {
      "text/plain": [
       "[(1,), (2,), (3,), (4,), (5,), ('aman',)]"
      ]
     },
     "execution_count": 17,
     "metadata": {},
     "output_type": "execute_result"
    }
   ],
   "source": [
    "tuple_l"
   ]
  },
  {
   "cell_type": "raw",
   "id": "f0d0fd5a",
   "metadata": {},
   "source": [
    "16. Variables that \"contain\" list values are not necessarily lists themselves.     Instead, what do they contain?\n",
    "ans:They can contain list,truple,set,dict,string,int,float etc."
   ]
  },
  {
   "cell_type": "raw",
   "id": "0296d5cf",
   "metadata": {},
   "source": [
    "17. How do you distinguish between copy.copy() and copy.deepcopy()?\n",
    "ans: When we do some change in copy.deepcopy(),different memory is alloted but      in  copy.copy() same memory is alloted.\n"
   ]
  },
  {
   "cell_type": "code",
   "execution_count": null,
   "id": "306740be",
   "metadata": {},
   "outputs": [],
   "source": []
  }
 ],
 "metadata": {
  "kernelspec": {
   "display_name": "Python 3",
   "language": "python",
   "name": "python3"
  },
  "language_info": {
   "codemirror_mode": {
    "name": "ipython",
    "version": 3
   },
   "file_extension": ".py",
   "mimetype": "text/x-python",
   "name": "python",
   "nbconvert_exporter": "python",
   "pygments_lexer": "ipython3",
   "version": "3.8.8"
  }
 },
 "nbformat": 4,
 "nbformat_minor": 5
}
